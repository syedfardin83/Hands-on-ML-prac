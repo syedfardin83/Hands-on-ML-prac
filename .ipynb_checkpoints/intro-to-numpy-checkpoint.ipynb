{
 "cells": [
  {
   "cell_type": "code",
   "execution_count": 5,
   "id": "1a0b1647",
   "metadata": {},
   "outputs": [],
   "source": [
    "import numpy as np"
   ]
  },
  {
   "cell_type": "code",
   "execution_count": 6,
   "id": "0f43750e",
   "metadata": {},
   "outputs": [
    {
     "data": {
      "text/plain": [
       "numpy.ndarray"
      ]
     },
     "execution_count": 6,
     "metadata": {},
     "output_type": "execute_result"
    }
   ],
   "source": [
    "a1 = np.array([1,2,3,4,5,5])\n",
    "a1\n",
    "type(a1)"
   ]
  },
  {
   "cell_type": "code",
   "execution_count": 8,
   "id": "cb431feb",
   "metadata": {},
   "outputs": [
    {
     "data": {
      "text/plain": [
       "array([[1, 2, 3, 4],\n",
       "       [5, 6, 7, 8]])"
      ]
     },
     "execution_count": 8,
     "metadata": {},
     "output_type": "execute_result"
    }
   ],
   "source": [
    "a2 = np.array([[1,2,3,4],[5,6,7,8]])\n",
    "a2"
   ]
  },
  {
   "cell_type": "code",
   "execution_count": 9,
   "id": "c21b03d3",
   "metadata": {},
   "outputs": [
    {
     "data": {
      "text/plain": [
       "(6,)"
      ]
     },
     "execution_count": 9,
     "metadata": {},
     "output_type": "execute_result"
    }
   ],
   "source": [
    "a1.shape"
   ]
  },
  {
   "cell_type": "code",
   "execution_count": 10,
   "id": "7b738206",
   "metadata": {},
   "outputs": [
    {
     "data": {
      "text/plain": [
       "(2, 4)"
      ]
     },
     "execution_count": 10,
     "metadata": {},
     "output_type": "execute_result"
    }
   ],
   "source": [
    "a2.shape"
   ]
  },
  {
   "cell_type": "code",
   "execution_count": 11,
   "id": "a7d22447",
   "metadata": {},
   "outputs": [
    {
     "data": {
      "text/plain": [
       "1"
      ]
     },
     "execution_count": 11,
     "metadata": {},
     "output_type": "execute_result"
    }
   ],
   "source": [
    "a1.ndim"
   ]
  },
  {
   "cell_type": "code",
   "execution_count": 13,
   "id": "89a3aa23",
   "metadata": {},
   "outputs": [
    {
     "data": {
      "text/plain": [
       "2"
      ]
     },
     "execution_count": 13,
     "metadata": {},
     "output_type": "execute_result"
    }
   ],
   "source": [
    "a2.ndim\n",
    "#array of arrays (2d)"
   ]
  },
  {
   "cell_type": "code",
   "execution_count": 14,
   "id": "e74720c9",
   "metadata": {},
   "outputs": [
    {
     "data": {
      "text/plain": [
       "6"
      ]
     },
     "execution_count": 14,
     "metadata": {},
     "output_type": "execute_result"
    }
   ],
   "source": [
    "a1.size"
   ]
  },
  {
   "cell_type": "code",
   "execution_count": 15,
   "id": "b7e0c29d",
   "metadata": {},
   "outputs": [
    {
     "data": {
      "text/plain": [
       "8"
      ]
     },
     "execution_count": 15,
     "metadata": {},
     "output_type": "execute_result"
    }
   ],
   "source": [
    "a2.size"
   ]
  },
  {
   "cell_type": "code",
   "execution_count": 16,
   "id": "1c049bb1",
   "metadata": {},
   "outputs": [
    {
     "data": {
      "text/plain": [
       "numpy.ndarray"
      ]
     },
     "execution_count": 16,
     "metadata": {},
     "output_type": "execute_result"
    }
   ],
   "source": [
    "type(a2)"
   ]
  },
  {
   "cell_type": "code",
   "execution_count": 17,
   "id": "29fd85cf",
   "metadata": {},
   "outputs": [
    {
     "data": {
      "text/plain": [
       "array([[ 1,  2,  3,  4,  5],\n",
       "       [ 6,  7,  8,  9, 10]])"
      ]
     },
     "execution_count": 17,
     "metadata": {},
     "output_type": "execute_result"
    }
   ],
   "source": [
    "a2 = np.array([[1,2,3,4,5],[6,7,8,9,10]])\n",
    "a2"
   ]
  },
  {
   "cell_type": "code",
   "execution_count": 18,
   "id": "2f8f2e09",
   "metadata": {},
   "outputs": [],
   "source": [
    "import pandas as pd"
   ]
  },
  {
   "cell_type": "code",
   "execution_count": 19,
   "id": "25dae4af",
   "metadata": {},
   "outputs": [],
   "source": [
    "df1 = pd.DataFrame(a2)"
   ]
  },
  {
   "cell_type": "code",
   "execution_count": 20,
   "id": "80d1ac6a",
   "metadata": {},
   "outputs": [
    {
     "data": {
      "text/html": [
       "<div>\n",
       "<style scoped>\n",
       "    .dataframe tbody tr th:only-of-type {\n",
       "        vertical-align: middle;\n",
       "    }\n",
       "\n",
       "    .dataframe tbody tr th {\n",
       "        vertical-align: top;\n",
       "    }\n",
       "\n",
       "    .dataframe thead th {\n",
       "        text-align: right;\n",
       "    }\n",
       "</style>\n",
       "<table border=\"1\" class=\"dataframe\">\n",
       "  <thead>\n",
       "    <tr style=\"text-align: right;\">\n",
       "      <th></th>\n",
       "      <th>0</th>\n",
       "      <th>1</th>\n",
       "      <th>2</th>\n",
       "      <th>3</th>\n",
       "      <th>4</th>\n",
       "    </tr>\n",
       "  </thead>\n",
       "  <tbody>\n",
       "    <tr>\n",
       "      <th>0</th>\n",
       "      <td>1</td>\n",
       "      <td>2</td>\n",
       "      <td>3</td>\n",
       "      <td>4</td>\n",
       "      <td>5</td>\n",
       "    </tr>\n",
       "    <tr>\n",
       "      <th>1</th>\n",
       "      <td>6</td>\n",
       "      <td>7</td>\n",
       "      <td>8</td>\n",
       "      <td>9</td>\n",
       "      <td>10</td>\n",
       "    </tr>\n",
       "  </tbody>\n",
       "</table>\n",
       "</div>"
      ],
      "text/plain": [
       "   0  1  2  3   4\n",
       "0  1  2  3  4   5\n",
       "1  6  7  8  9  10"
      ]
     },
     "execution_count": 20,
     "metadata": {},
     "output_type": "execute_result"
    }
   ],
   "source": [
    "df1"
   ]
  },
  {
   "cell_type": "code",
   "execution_count": 21,
   "id": "cea02493",
   "metadata": {},
   "outputs": [],
   "source": [
    "zeros = np.zeros([3,4])"
   ]
  },
  {
   "cell_type": "code",
   "execution_count": 22,
   "id": "46bb4ef8",
   "metadata": {},
   "outputs": [
    {
     "data": {
      "text/plain": [
       "array([[0., 0., 0., 0.],\n",
       "       [0., 0., 0., 0.],\n",
       "       [0., 0., 0., 0.]])"
      ]
     },
     "execution_count": 22,
     "metadata": {},
     "output_type": "execute_result"
    }
   ],
   "source": [
    "zeros"
   ]
  },
  {
   "cell_type": "code",
   "execution_count": 23,
   "id": "984ec9eb",
   "metadata": {},
   "outputs": [],
   "source": [
    "dfz = pd.DataFrame(zeros)"
   ]
  },
  {
   "cell_type": "code",
   "execution_count": 25,
   "id": "8b0de322",
   "metadata": {},
   "outputs": [
    {
     "data": {
      "text/plain": [
       "0    float64\n",
       "1    float64\n",
       "2    float64\n",
       "3    float64\n",
       "dtype: object"
      ]
     },
     "execution_count": 25,
     "metadata": {},
     "output_type": "execute_result"
    }
   ],
   "source": [
    "dfz.dtypes"
   ]
  },
  {
   "cell_type": "code",
   "execution_count": null,
   "id": "bc311328",
   "metadata": {},
   "outputs": [],
   "source": [
    "range_array = np.arange()"
   ]
  },
  {
   "cell_type": "code",
   "execution_count": 26,
   "id": "54ceba50",
   "metadata": {},
   "outputs": [
    {
     "data": {
      "text/plain": [
       "array([[10,  1,  3, 10,  9,  8,  8,  5, 10, 14]])"
      ]
     },
     "execution_count": 26,
     "metadata": {},
     "output_type": "execute_result"
    }
   ],
   "source": [
    "random_array = np.random.randint(1,15,size=(1,10))\n",
    "random_array"
   ]
  },
  {
   "cell_type": "code",
   "execution_count": 27,
   "id": "b4f041d1",
   "metadata": {},
   "outputs": [
    {
     "data": {
      "text/plain": [
       "(1, 10)"
      ]
     },
     "execution_count": 27,
     "metadata": {},
     "output_type": "execute_result"
    }
   ],
   "source": [
    "random_array.size\n",
    "random_array.shape"
   ]
  },
  {
   "cell_type": "code",
   "execution_count": 28,
   "id": "30e0c5a7",
   "metadata": {},
   "outputs": [
    {
     "data": {
      "text/plain": [
       "10"
      ]
     },
     "execution_count": 28,
     "metadata": {},
     "output_type": "execute_result"
    }
   ],
   "source": [
    "random_array.size"
   ]
  },
  {
   "cell_type": "code",
   "execution_count": 35,
   "id": "9aef453f",
   "metadata": {},
   "outputs": [
    {
     "data": {
      "text/plain": [
       "array([[25,  4, 57],\n",
       "       [73,  1, 22],\n",
       "       [20, 75, 42]])"
      ]
     },
     "execution_count": 35,
     "metadata": {},
     "output_type": "execute_result"
    }
   ],
   "source": [
    "np.random.seed(3)\n",
    "np.random.randint(1,100,size=(3,3))"
   ]
  },
  {
   "cell_type": "code",
   "execution_count": 37,
   "id": "0032a9ab",
   "metadata": {},
   "outputs": [
    {
     "data": {
      "text/plain": [
       "array([[70, 98, 30, 25, 63],\n",
       "       [ 8, 44, 34, 80, 49],\n",
       "       [38, 21, 95, 50, 22],\n",
       "       [79, 29, 55,  1, 65]])"
      ]
     },
     "execution_count": 37,
     "metadata": {},
     "output_type": "execute_result"
    }
   ],
   "source": [
    "arr1 = np.random.randint(1,100,size=(4,5))\n",
    "arr1"
   ]
  },
  {
   "cell_type": "code",
   "execution_count": 38,
   "id": "5b0b0715",
   "metadata": {},
   "outputs": [
    {
     "data": {
      "text/plain": [
       "array([ 1,  8, 21, 22, 25, 29, 30, 34, 38, 44, 49, 50, 55, 63, 65, 70, 79,\n",
       "       80, 95, 98])"
      ]
     },
     "execution_count": 38,
     "metadata": {},
     "output_type": "execute_result"
    }
   ],
   "source": [
    "np.unique(arr1)"
   ]
  },
  {
   "cell_type": "code",
   "execution_count": 39,
   "id": "fbfa6642",
   "metadata": {},
   "outputs": [
    {
     "data": {
      "text/plain": [
       "(4, 5)"
      ]
     },
     "execution_count": 39,
     "metadata": {},
     "output_type": "execute_result"
    }
   ],
   "source": [
    "arr1.shape"
   ]
  },
  {
   "cell_type": "code",
   "execution_count": 41,
   "id": "fecf778a",
   "metadata": {},
   "outputs": [
    {
     "data": {
      "text/plain": [
       "70"
      ]
     },
     "execution_count": 41,
     "metadata": {},
     "output_type": "execute_result"
    }
   ],
   "source": [
    "arr1[0][0]"
   ]
  },
  {
   "cell_type": "code",
   "execution_count": 43,
   "id": "1e246b6a",
   "metadata": {},
   "outputs": [
    {
     "data": {
      "text/plain": [
       "array([ 8, 44, 34, 80, 49])"
      ]
     },
     "execution_count": 43,
     "metadata": {},
     "output_type": "execute_result"
    }
   ],
   "source": [
    "arr1[1]"
   ]
  },
  {
   "cell_type": "code",
   "execution_count": 45,
   "id": "9b4d1021",
   "metadata": {},
   "outputs": [
    {
     "data": {
      "text/plain": [
       "array([[[19, 64, 38, 57, 57],\n",
       "        [72, 38, 47, 34,  2],\n",
       "        [86, 75, 92, 17, 81],\n",
       "        [33, 17, 19, 76, 56]],\n",
       "\n",
       "       [[97, 96, 14, 38, 31],\n",
       "        [49, 62, 34, 53,  3],\n",
       "        [29, 37, 91, 45, 49],\n",
       "        [60, 75, 55, 92, 22]],\n",
       "\n",
       "       [[57, 40, 30, 33, 49],\n",
       "        [10, 34, 61, 89, 56],\n",
       "        [12, 85, 11, 81, 77],\n",
       "        [69, 45, 45, 20, 17]]])"
      ]
     },
     "execution_count": 45,
     "metadata": {},
     "output_type": "execute_result"
    }
   ],
   "source": [
    "arr2 = np.random.randint(1,100,size=(3,4,5))\n",
    "arr2"
   ]
  },
  {
   "cell_type": "code",
   "execution_count": 46,
   "id": "af072094",
   "metadata": {},
   "outputs": [
    {
     "data": {
      "text/plain": [
       "array([[[19, 64],\n",
       "        [72, 38]],\n",
       "\n",
       "       [[97, 96],\n",
       "        [49, 62]]])"
      ]
     },
     "execution_count": 46,
     "metadata": {},
     "output_type": "execute_result"
    }
   ],
   "source": [
    "arr2[:2,:2,:2]"
   ]
  },
  {
   "cell_type": "code",
   "execution_count": 47,
   "id": "ef2df490",
   "metadata": {},
   "outputs": [
    {
     "data": {
      "text/plain": [
       "array([[70, 98, 30, 25, 63],\n",
       "       [ 8, 44, 34, 80, 49],\n",
       "       [38, 21, 95, 50, 22],\n",
       "       [79, 29, 55,  1, 65]])"
      ]
     },
     "execution_count": 47,
     "metadata": {},
     "output_type": "execute_result"
    }
   ],
   "source": [
    "arr1"
   ]
  },
  {
   "cell_type": "code",
   "execution_count": 48,
   "id": "18d1de5f",
   "metadata": {},
   "outputs": [
    {
     "data": {
      "text/plain": [
       "array([[70, 98],\n",
       "       [ 8, 44]])"
      ]
     },
     "execution_count": 48,
     "metadata": {},
     "output_type": "execute_result"
    }
   ],
   "source": [
    "arr1[:2,:2]"
   ]
  },
  {
   "cell_type": "code",
   "execution_count": 51,
   "id": "749c9e94",
   "metadata": {},
   "outputs": [
    {
     "data": {
      "text/plain": [
       "array([[[[[80, 78, 14,  0, 35],\n",
       "          [58, 33, 70, 69, 46]],\n",
       "\n",
       "         [[32, 61, 10, 15, 74],\n",
       "          [72, 97, 35,  4, 79]],\n",
       "\n",
       "         [[47, 11, 67, 96, 15],\n",
       "          [13, 40, 64, 26, 35]],\n",
       "\n",
       "         [[18, 58, 95, 14, 42],\n",
       "          [66, 47, 40, 37, 27]],\n",
       "\n",
       "         [[97, 98, 74, 47, 81],\n",
       "          [40, 63, 75, 53, 28]]],\n",
       "\n",
       "\n",
       "        [[[86, 71, 62, 50, 45],\n",
       "          [10, 34, 82, 62, 80]],\n",
       "\n",
       "         [[53, 77, 58, 11, 90],\n",
       "          [ 9, 50, 82, 81, 64]],\n",
       "\n",
       "         [[69, 50, 86, 11, 73],\n",
       "          [47, 75,  2, 30, 53]],\n",
       "\n",
       "         [[83, 60, 39, 91, 61],\n",
       "          [30, 77, 31,  1, 82]],\n",
       "\n",
       "         [[89, 45, 90, 54, 69],\n",
       "          [75, 91, 30, 56, 96]]],\n",
       "\n",
       "\n",
       "        [[[72, 24, 80, 27, 47],\n",
       "          [32, 99, 75, 46, 70]],\n",
       "\n",
       "         [[96, 94, 36, 42, 63],\n",
       "          [63, 48, 75, 43, 63]],\n",
       "\n",
       "         [[63,  9, 10, 89, 58],\n",
       "          [25, 60, 87, 91, 51]],\n",
       "\n",
       "         [[81, 41, 52, 74, 95],\n",
       "          [30, 15, 37,  8,  6]],\n",
       "\n",
       "         [[97, 86, 18, 50, 25],\n",
       "          [83, 38, 36, 48, 18]]]],\n",
       "\n",
       "\n",
       "\n",
       "       [[[[60, 72, 19,  0, 28],\n",
       "          [94, 45, 57,  6, 19]],\n",
       "\n",
       "         [[88, 93, 21, 24, 59],\n",
       "          [30, 96,  0, 57, 54]],\n",
       "\n",
       "         [[64,  5, 53, 92, 44],\n",
       "          [ 5, 67, 39, 96, 98]],\n",
       "\n",
       "         [[26, 53, 15, 46, 60],\n",
       "          [41, 60, 61, 86, 74]],\n",
       "\n",
       "         [[38, 47,  1,  8, 15],\n",
       "          [ 5, 58, 72, 71, 88]]],\n",
       "\n",
       "\n",
       "        [[[58,  2, 52, 96, 74],\n",
       "          [17, 97, 53, 52, 88]],\n",
       "\n",
       "         [[99, 31, 91,  6, 76],\n",
       "          [96, 30, 90, 87, 59]],\n",
       "\n",
       "         [[30, 51, 47,  8, 44],\n",
       "          [14, 67, 79,  1, 96]],\n",
       "\n",
       "         [[35, 23, 50, 34, 28],\n",
       "          [ 9, 47, 33, 24, 97]],\n",
       "\n",
       "         [[17, 10, 16, 81, 42],\n",
       "          [34, 79, 45,  8, 59]]],\n",
       "\n",
       "\n",
       "        [[[32, 60, 20, 94, 56],\n",
       "          [82, 19, 87,  6, 28]],\n",
       "\n",
       "         [[44, 73,  3, 61, 26],\n",
       "          [76, 56,  7, 82, 38]],\n",
       "\n",
       "         [[57,  6, 92, 78, 95],\n",
       "          [59,  7, 24, 40, 22]],\n",
       "\n",
       "         [[82, 43, 41, 27, 46],\n",
       "          [86, 19, 65, 59, 70]],\n",
       "\n",
       "         [[55, 18, 29, 89, 42],\n",
       "          [85, 67, 28, 22, 71]]]],\n",
       "\n",
       "\n",
       "\n",
       "       [[[[35, 92, 70, 58, 26],\n",
       "          [10, 42, 19,  3, 93]],\n",
       "\n",
       "         [[77, 34, 65, 74, 49],\n",
       "          [14,  1, 87, 87, 48]],\n",
       "\n",
       "         [[92, 14, 64, 66, 73],\n",
       "          [35, 84, 95,  5, 17]],\n",
       "\n",
       "         [[15, 64,  6, 53, 66],\n",
       "          [37, 82, 90, 80, 62]],\n",
       "\n",
       "         [[52, 52, 12, 40,  3],\n",
       "          [12, 30, 32, 41, 11]]],\n",
       "\n",
       "\n",
       "        [[[27, 17, 60, 38, 31],\n",
       "          [38, 17, 97, 94, 99]],\n",
       "\n",
       "         [[68, 57, 71, 53, 92],\n",
       "          [75, 35, 75, 23, 75]],\n",
       "\n",
       "         [[22,  2,  8, 92, 41],\n",
       "          [34, 72,  0, 27, 22]],\n",
       "\n",
       "         [[98, 30, 63, 51,  6],\n",
       "          [88, 48,  0, 43, 93]],\n",
       "\n",
       "         [[27, 13,  4, 43, 13],\n",
       "          [30, 71, 25, 40, 89]]],\n",
       "\n",
       "\n",
       "        [[[26, 57,  1, 73, 41],\n",
       "          [37, 79, 61, 10, 49]],\n",
       "\n",
       "         [[96, 25, 92, 60, 74],\n",
       "          [34, 90, 42, 86, 19]],\n",
       "\n",
       "         [[90, 77, 76, 60, 23],\n",
       "          [34, 54,  7, 62, 32]],\n",
       "\n",
       "         [[92, 20, 23, 95, 65],\n",
       "          [45,  7, 97, 44, 91]],\n",
       "\n",
       "         [[87, 88, 17, 64, 68],\n",
       "          [ 6, 36, 49, 95, 81]]]],\n",
       "\n",
       "\n",
       "\n",
       "       [[[[32, 88, 97, 39, 75],\n",
       "          [ 8, 33, 23, 80, 95]],\n",
       "\n",
       "         [[93, 41, 33, 99, 50],\n",
       "          [37, 68, 32, 89, 96]],\n",
       "\n",
       "         [[37, 66, 80, 96, 98],\n",
       "          [25, 99, 10, 52, 46]],\n",
       "\n",
       "         [[51, 60, 86, 50, 57],\n",
       "          [ 3, 80, 92, 82, 72]],\n",
       "\n",
       "         [[ 5, 57, 37,  9, 19],\n",
       "          [84, 20, 53, 45, 78]]],\n",
       "\n",
       "\n",
       "        [[[87, 55, 69, 32, 47],\n",
       "          [36, 49, 75, 66, 88]],\n",
       "\n",
       "         [[36, 36, 23, 49, 67],\n",
       "          [92, 61, 88, 25, 84]],\n",
       "\n",
       "         [[99, 44, 80, 39, 83],\n",
       "          [57, 56, 10, 30, 90]],\n",
       "\n",
       "         [[25, 99, 20, 43, 59],\n",
       "          [21, 28, 46, 75,  1]],\n",
       "\n",
       "         [[75, 47, 29, 69, 32],\n",
       "          [63, 22, 41, 99, 15]]],\n",
       "\n",
       "\n",
       "        [[[48, 89, 19, 67, 36],\n",
       "          [93, 53,  8, 86, 63]],\n",
       "\n",
       "         [[ 1, 23, 57, 39, 39],\n",
       "          [82, 10, 53, 44, 98]],\n",
       "\n",
       "         [[97,  2, 80, 53, 31],\n",
       "          [81, 85, 29, 83, 12]],\n",
       "\n",
       "         [[14, 53, 10, 89, 97],\n",
       "          [46, 42, 29, 46, 98]],\n",
       "\n",
       "         [[97, 46, 22, 43, 95],\n",
       "          [50, 71,  1, 93, 24]]]]])"
      ]
     },
     "execution_count": 51,
     "metadata": {},
     "output_type": "execute_result"
    }
   ],
   "source": [
    "arr3 = np.random.randint(100,size=(4,3,5,2,5))\n",
    "arr3"
   ]
  },
  {
   "cell_type": "code",
   "execution_count": 54,
   "id": "41e64778",
   "metadata": {},
   "outputs": [
    {
     "data": {
      "text/plain": [
       "array([[[[[80, 78, 14],\n",
       "          [58, 33, 70]],\n",
       "\n",
       "         [[32, 61, 10],\n",
       "          [72, 97, 35]],\n",
       "\n",
       "         [[47, 11, 67],\n",
       "          [13, 40, 64]],\n",
       "\n",
       "         [[18, 58, 95],\n",
       "          [66, 47, 40]],\n",
       "\n",
       "         [[97, 98, 74],\n",
       "          [40, 63, 75]]],\n",
       "\n",
       "\n",
       "        [[[86, 71, 62],\n",
       "          [10, 34, 82]],\n",
       "\n",
       "         [[53, 77, 58],\n",
       "          [ 9, 50, 82]],\n",
       "\n",
       "         [[69, 50, 86],\n",
       "          [47, 75,  2]],\n",
       "\n",
       "         [[83, 60, 39],\n",
       "          [30, 77, 31]],\n",
       "\n",
       "         [[89, 45, 90],\n",
       "          [75, 91, 30]]],\n",
       "\n",
       "\n",
       "        [[[72, 24, 80],\n",
       "          [32, 99, 75]],\n",
       "\n",
       "         [[96, 94, 36],\n",
       "          [63, 48, 75]],\n",
       "\n",
       "         [[63,  9, 10],\n",
       "          [25, 60, 87]],\n",
       "\n",
       "         [[81, 41, 52],\n",
       "          [30, 15, 37]],\n",
       "\n",
       "         [[97, 86, 18],\n",
       "          [83, 38, 36]]]],\n",
       "\n",
       "\n",
       "\n",
       "       [[[[60, 72, 19],\n",
       "          [94, 45, 57]],\n",
       "\n",
       "         [[88, 93, 21],\n",
       "          [30, 96,  0]],\n",
       "\n",
       "         [[64,  5, 53],\n",
       "          [ 5, 67, 39]],\n",
       "\n",
       "         [[26, 53, 15],\n",
       "          [41, 60, 61]],\n",
       "\n",
       "         [[38, 47,  1],\n",
       "          [ 5, 58, 72]]],\n",
       "\n",
       "\n",
       "        [[[58,  2, 52],\n",
       "          [17, 97, 53]],\n",
       "\n",
       "         [[99, 31, 91],\n",
       "          [96, 30, 90]],\n",
       "\n",
       "         [[30, 51, 47],\n",
       "          [14, 67, 79]],\n",
       "\n",
       "         [[35, 23, 50],\n",
       "          [ 9, 47, 33]],\n",
       "\n",
       "         [[17, 10, 16],\n",
       "          [34, 79, 45]]],\n",
       "\n",
       "\n",
       "        [[[32, 60, 20],\n",
       "          [82, 19, 87]],\n",
       "\n",
       "         [[44, 73,  3],\n",
       "          [76, 56,  7]],\n",
       "\n",
       "         [[57,  6, 92],\n",
       "          [59,  7, 24]],\n",
       "\n",
       "         [[82, 43, 41],\n",
       "          [86, 19, 65]],\n",
       "\n",
       "         [[55, 18, 29],\n",
       "          [85, 67, 28]]]],\n",
       "\n",
       "\n",
       "\n",
       "       [[[[35, 92, 70],\n",
       "          [10, 42, 19]],\n",
       "\n",
       "         [[77, 34, 65],\n",
       "          [14,  1, 87]],\n",
       "\n",
       "         [[92, 14, 64],\n",
       "          [35, 84, 95]],\n",
       "\n",
       "         [[15, 64,  6],\n",
       "          [37, 82, 90]],\n",
       "\n",
       "         [[52, 52, 12],\n",
       "          [12, 30, 32]]],\n",
       "\n",
       "\n",
       "        [[[27, 17, 60],\n",
       "          [38, 17, 97]],\n",
       "\n",
       "         [[68, 57, 71],\n",
       "          [75, 35, 75]],\n",
       "\n",
       "         [[22,  2,  8],\n",
       "          [34, 72,  0]],\n",
       "\n",
       "         [[98, 30, 63],\n",
       "          [88, 48,  0]],\n",
       "\n",
       "         [[27, 13,  4],\n",
       "          [30, 71, 25]]],\n",
       "\n",
       "\n",
       "        [[[26, 57,  1],\n",
       "          [37, 79, 61]],\n",
       "\n",
       "         [[96, 25, 92],\n",
       "          [34, 90, 42]],\n",
       "\n",
       "         [[90, 77, 76],\n",
       "          [34, 54,  7]],\n",
       "\n",
       "         [[92, 20, 23],\n",
       "          [45,  7, 97]],\n",
       "\n",
       "         [[87, 88, 17],\n",
       "          [ 6, 36, 49]]]],\n",
       "\n",
       "\n",
       "\n",
       "       [[[[32, 88, 97],\n",
       "          [ 8, 33, 23]],\n",
       "\n",
       "         [[93, 41, 33],\n",
       "          [37, 68, 32]],\n",
       "\n",
       "         [[37, 66, 80],\n",
       "          [25, 99, 10]],\n",
       "\n",
       "         [[51, 60, 86],\n",
       "          [ 3, 80, 92]],\n",
       "\n",
       "         [[ 5, 57, 37],\n",
       "          [84, 20, 53]]],\n",
       "\n",
       "\n",
       "        [[[87, 55, 69],\n",
       "          [36, 49, 75]],\n",
       "\n",
       "         [[36, 36, 23],\n",
       "          [92, 61, 88]],\n",
       "\n",
       "         [[99, 44, 80],\n",
       "          [57, 56, 10]],\n",
       "\n",
       "         [[25, 99, 20],\n",
       "          [21, 28, 46]],\n",
       "\n",
       "         [[75, 47, 29],\n",
       "          [63, 22, 41]]],\n",
       "\n",
       "\n",
       "        [[[48, 89, 19],\n",
       "          [93, 53,  8]],\n",
       "\n",
       "         [[ 1, 23, 57],\n",
       "          [82, 10, 53]],\n",
       "\n",
       "         [[97,  2, 80],\n",
       "          [81, 85, 29]],\n",
       "\n",
       "         [[14, 53, 10],\n",
       "          [46, 42, 29]],\n",
       "\n",
       "         [[97, 46, 22],\n",
       "          [50, 71,  1]]]]])"
      ]
     },
     "execution_count": 54,
     "metadata": {},
     "output_type": "execute_result"
    }
   ],
   "source": [
    "arr3[:,:,:,:,:3]"
   ]
  },
  {
   "cell_type": "code",
   "execution_count": 56,
   "id": "a52f20c1",
   "metadata": {},
   "outputs": [
    {
     "data": {
      "text/plain": [
       "array([[[10, 93, 44, 15],\n",
       "        [68, 66,  1, 36],\n",
       "        [10, 81, 47, 35]],\n",
       "\n",
       "       [[36, 43, 26, 29],\n",
       "        [62, 86, 84, 98],\n",
       "        [69, 75, 70, 14]]])"
      ]
     },
     "execution_count": 56,
     "metadata": {},
     "output_type": "execute_result"
    }
   ],
   "source": [
    "arr4 = np.random.randint(1,100,size=(2,3,4))\n",
    "arr4"
   ]
  },
  {
   "cell_type": "code",
   "execution_count": 59,
   "id": "b44d4be4",
   "metadata": {},
   "outputs": [
    {
     "data": {
      "text/plain": [
       "array([[[10, 93],\n",
       "        [68, 66]]])"
      ]
     },
     "execution_count": 59,
     "metadata": {},
     "output_type": "execute_result"
    }
   ],
   "source": [
    "arr4[:1,:2,:2]"
   ]
  },
  {
   "cell_type": "code",
   "execution_count": 61,
   "id": "96fc8132",
   "metadata": {},
   "outputs": [],
   "source": [
    "a1 = np.array([1,2,3,4])\n",
    "a2 = np.ones((1,4))"
   ]
  },
  {
   "cell_type": "code",
   "execution_count": 62,
   "id": "c05256c1",
   "metadata": {},
   "outputs": [
    {
     "data": {
      "text/plain": [
       "array([[2., 3., 4., 5.]])"
      ]
     },
     "execution_count": 62,
     "metadata": {},
     "output_type": "execute_result"
    }
   ],
   "source": [
    "a1+a2"
   ]
  },
  {
   "cell_type": "code",
   "execution_count": 63,
   "id": "97731ff7",
   "metadata": {},
   "outputs": [
    {
     "data": {
      "text/plain": [
       "array([[1., 2., 3., 4.]])"
      ]
     },
     "execution_count": 63,
     "metadata": {},
     "output_type": "execute_result"
    }
   ],
   "source": [
    "a1*a2"
   ]
  },
  {
   "cell_type": "code",
   "execution_count": 64,
   "id": "adebee94",
   "metadata": {},
   "outputs": [],
   "source": [
    "arr = np.random.randint(1,100,size=(1,1000000))"
   ]
  },
  {
   "cell_type": "code",
   "execution_count": 65,
   "id": "5379e764",
   "metadata": {},
   "outputs": [
    {
     "data": {
      "text/plain": [
       "array([[31, 94, 87, ..., 24, 28, 38]])"
      ]
     },
     "execution_count": 65,
     "metadata": {},
     "output_type": "execute_result"
    }
   ],
   "source": [
    "arr[:10]"
   ]
  },
  {
   "cell_type": "code",
   "execution_count": 68,
   "id": "bfb9e35a",
   "metadata": {},
   "outputs": [
    {
     "name": "stdout",
     "output_type": "stream",
     "text": [
      "1.14 ms ± 54.9 µs per loop (mean ± std. dev. of 7 runs, 1,000 loops each)\n",
      "293 µs ± 30.2 µs per loop (mean ± std. dev. of 7 runs, 1,000 loops each)\n"
     ]
    }
   ],
   "source": [
    "%timeit sum(arr)\n",
    "%timeit np.sum(arr)"
   ]
  },
  {
   "cell_type": "code",
   "execution_count": 85,
   "id": "42d168e1",
   "metadata": {},
   "outputs": [
    {
     "name": "stdout",
     "output_type": "stream",
     "text": [
      "Standard dev:  27.961536080837906\n",
      "Varience:  781.8475\n"
     ]
    }
   ],
   "source": [
    "arr = np.random.randint(1,100,size=(1,100))\n",
    "#print(\"Uniqes: \",np.unique(arr))\n",
    "print(\"Standard dev: \",np.std(arr))\n",
    "print(\"Varience: \",np.var(arr))"
   ]
  },
  {
   "cell_type": "code",
   "execution_count": 86,
   "id": "b3c1654f",
   "metadata": {},
   "outputs": [
    {
     "name": "stdout",
     "output_type": "stream",
     "text": [
      "1338016.1600000001 8.0\n"
     ]
    }
   ],
   "source": [
    "high_var_array = np.array([1,100,200,1500,3000])\n",
    "low_var_array = np.array([2,4,6,8,10])\n",
    "print(np.var(high_var_array),np.var(low_var_array))"
   ]
  },
  {
   "cell_type": "code",
   "execution_count": 87,
   "id": "d40b7ee2",
   "metadata": {},
   "outputs": [
    {
     "data": {
      "image/png": "[encoded data removed]",
      "text/plain": [
       "<Figure size 640x480 with 1 Axes>"
      ]
     },
     "metadata": {},
     "output_type": "display_data"
    }
   ],
   "source": [
    "%matplotlib inline\n",
    "import matplotlib.pyplot as plt\n",
    "plt.hist(high_var_array)\n",
    "plt.show()"
   ]
  },
  {
   "cell_type": "code",
   "execution_count": 88,
   "id": "e1cfd323",
   "metadata": {},
   "outputs": [
    {
     "data": {
      "image/png": "[encoded data removed]",
      "text/plain": [
       "<Figure size 640x480 with 1 Axes>"
      ]
     },
     "metadata": {},
     "output_type": "display_data"
    }
   ],
   "source": [
    "plt.hist(low_var_array)\n",
    "plt.show()"
   ]
  },
  {
   "cell_type": "code",
   "execution_count": 89,
   "id": "ba9d8f0b",
   "metadata": {},
   "outputs": [],
   "source": [
    "a1 = np.array([1,2,3,4,5,6,7,8,9,10])"
   ]
  },
  {
   "cell_type": "code",
   "execution_count": 91,
   "id": "ae967bd3",
   "metadata": {},
   "outputs": [
    {
     "data": {
      "text/plain": [
       "array([[ 1,  2],\n",
       "       [ 3,  4],\n",
       "       [ 5,  6],\n",
       "       [ 7,  8],\n",
       "       [ 9, 10]])"
      ]
     },
     "execution_count": 91,
     "metadata": {},
     "output_type": "execute_result"
    }
   ],
   "source": [
    "a1.reshape((5,2))"
   ]
  },
  {
   "cell_type": "code",
   "execution_count": 92,
   "id": "3029cded",
   "metadata": {},
   "outputs": [
    {
     "data": {
      "text/plain": [
       "(10,)"
      ]
     },
     "execution_count": 92,
     "metadata": {},
     "output_type": "execute_result"
    }
   ],
   "source": [
    "a1.shape"
   ]
  },
  {
   "cell_type": "code",
   "execution_count": 93,
   "id": "26331bba",
   "metadata": {},
   "outputs": [],
   "source": [
    "a1 = np.random.randint(1,100,size=(3,4))"
   ]
  },
  {
   "cell_type": "code",
   "execution_count": 94,
   "id": "d6d3856a",
   "metadata": {},
   "outputs": [],
   "source": [
    "a2 = np.random.randint(1,100,size=(3,4))"
   ]
  },
  {
   "cell_type": "code",
   "execution_count": 96,
   "id": "4b25fe3f",
   "metadata": {},
   "outputs": [
    {
     "data": {
      "text/plain": [
       "array([[ 7042, 14969,  7779],\n",
       "       [ 2524,  7819,  4992],\n",
       "       [ 4078,  7670,  4698]])"
      ]
     },
     "execution_count": 96,
     "metadata": {},
     "output_type": "execute_result"
    }
   ],
   "source": [
    "np.dot(a1,a2.T)"
   ]
  },
  {
   "cell_type": "markdown",
   "id": "35af6579",
   "metadata": {},
   "source": [
    "## Butter Store Example"
   ]
  },
  {
   "cell_type": "code",
   "execution_count": 2,
   "id": "3046c1d4",
   "metadata": {},
   "outputs": [],
   "source": [
    " import pandas as pd\n",
    "import numpy as np"
   ]
  },
  {
   "cell_type": "code",
   "execution_count": 3,
   "id": "623af427",
   "metadata": {
    "scrolled": true
   },
   "outputs": [
    {
     "data": {
      "text/html": [
       "<div>\n",
       "<style scoped>\n",
       "    .dataframe tbody tr th:only-of-type {\n",
       "        vertical-align: middle;\n",
       "    }\n",
       "\n",
       "    .dataframe tbody tr th {\n",
       "        vertical-align: top;\n",
       "    }\n",
       "\n",
       "    .dataframe thead th {\n",
       "        text-align: right;\n",
       "    }\n",
       "</style>\n",
       "<table border=\"1\" class=\"dataframe\">\n",
       "  <thead>\n",
       "    <tr style=\"text-align: right;\">\n",
       "      <th></th>\n",
       "      <th>Almond Butter</th>\n",
       "      <th>Peanut butter</th>\n",
       "      <th>Cashew Butter</th>\n",
       "    </tr>\n",
       "  </thead>\n",
       "  <tbody>\n",
       "    <tr>\n",
       "      <th>Mon</th>\n",
       "      <td>18</td>\n",
       "      <td>4</td>\n",
       "      <td>18</td>\n",
       "    </tr>\n",
       "    <tr>\n",
       "      <th>Tue</th>\n",
       "      <td>18</td>\n",
       "      <td>16</td>\n",
       "      <td>9</td>\n",
       "    </tr>\n",
       "    <tr>\n",
       "      <th>Wed</th>\n",
       "      <td>19</td>\n",
       "      <td>12</td>\n",
       "      <td>11</td>\n",
       "    </tr>\n",
       "    <tr>\n",
       "      <th>Thur</th>\n",
       "      <td>15</td>\n",
       "      <td>14</td>\n",
       "      <td>8</td>\n",
       "    </tr>\n",
       "    <tr>\n",
       "      <th>Fri</th>\n",
       "      <td>8</td>\n",
       "      <td>13</td>\n",
       "      <td>18</td>\n",
       "    </tr>\n",
       "  </tbody>\n",
       "</table>\n",
       "</div>"
      ],
      "text/plain": [
       "      Almond Butter  Peanut butter  Cashew Butter\n",
       "Mon              18              4             18\n",
       "Tue              18             16              9\n",
       "Wed              19             12             11\n",
       "Thur             15             14              8\n",
       "Fri               8             13             18"
      ]
     },
     "execution_count": 3,
     "metadata": {},
     "output_type": "execute_result"
    }
   ],
   "source": [
    "sales_amount = np.random.randint(20,size=(5,3))\n",
    "weekly_sales = pd.DataFrame(sales_amount,index=(\"Mon\",\"Tue\",\"Wed\",\"Thur\",\"Fri\"),columns=(\"Almond Butter\",\"Peanut butter\",\"Cashew Butter\"))\n",
    "weekly_sales"
   ]
  },
  {
   "cell_type": "code",
   "execution_count": 4,
   "id": "d7f8d459",
   "metadata": {},
   "outputs": [
    {
     "data": {
      "text/plain": [
       "array([10,  8, 12])"
      ]
     },
     "execution_count": 4,
     "metadata": {},
     "output_type": "execute_result"
    }
   ],
   "source": [
    "prices = np.array([10,8,12])\n",
    "prices"
   ]
  },
  {
   "cell_type": "code",
   "execution_count": 10,
   "id": "9100e48b",
   "metadata": {},
   "outputs": [
    {
     "data": {
      "text/html": [
       "<div>\n",
       "<style scoped>\n",
       "    .dataframe tbody tr th:only-of-type {\n",
       "        vertical-align: middle;\n",
       "    }\n",
       "\n",
       "    .dataframe tbody tr th {\n",
       "        vertical-align: top;\n",
       "    }\n",
       "\n",
       "    .dataframe thead th {\n",
       "        text-align: right;\n",
       "    }\n",
       "</style>\n",
       "<table border=\"1\" class=\"dataframe\">\n",
       "  <thead>\n",
       "    <tr style=\"text-align: right;\">\n",
       "      <th></th>\n",
       "      <th>Almond Butter</th>\n",
       "      <th>Peanut butter</th>\n",
       "      <th>Cashew Butter</th>\n",
       "    </tr>\n",
       "  </thead>\n",
       "  <tbody>\n",
       "    <tr>\n",
       "      <th>Prices</th>\n",
       "      <td>10</td>\n",
       "      <td>8</td>\n",
       "      <td>12</td>\n",
       "    </tr>\n",
       "  </tbody>\n",
       "</table>\n",
       "</div>"
      ],
      "text/plain": [
       "        Almond Butter  Peanut butter  Cashew Butter\n",
       "Prices             10              8             12"
      ]
     },
     "execution_count": 10,
     "metadata": {},
     "output_type": "execute_result"
    }
   ],
   "source": [
    "butter_prices = pd.DataFrame(prices.reshape(1,3),index=[\"Prices\"],columns=[\"Almond Butter\",\"Peanut butter\",\"Cashew Butter\"])\n",
    "butter_prices"
   ]
  },
  {
   "cell_type": "code",
   "execution_count": 13,
   "id": "cceefa2e",
   "metadata": {},
   "outputs": [
    {
     "data": {
      "text/html": [
       "<div>\n",
       "<style scoped>\n",
       "    .dataframe tbody tr th:only-of-type {\n",
       "        vertical-align: middle;\n",
       "    }\n",
       "\n",
       "    .dataframe tbody tr th {\n",
       "        vertical-align: top;\n",
       "    }\n",
       "\n",
       "    .dataframe thead th {\n",
       "        text-align: right;\n",
       "    }\n",
       "</style>\n",
       "<table border=\"1\" class=\"dataframe\">\n",
       "  <thead>\n",
       "    <tr style=\"text-align: right;\">\n",
       "      <th></th>\n",
       "      <th>Almond Butter</th>\n",
       "      <th>Peanut butter</th>\n",
       "      <th>Cashew Butter</th>\n",
       "    </tr>\n",
       "  </thead>\n",
       "  <tbody>\n",
       "    <tr>\n",
       "      <th>Mon</th>\n",
       "      <td>18</td>\n",
       "      <td>4</td>\n",
       "      <td>18</td>\n",
       "    </tr>\n",
       "    <tr>\n",
       "      <th>Tue</th>\n",
       "      <td>18</td>\n",
       "      <td>16</td>\n",
       "      <td>9</td>\n",
       "    </tr>\n",
       "    <tr>\n",
       "      <th>Wed</th>\n",
       "      <td>19</td>\n",
       "      <td>12</td>\n",
       "      <td>11</td>\n",
       "    </tr>\n",
       "    <tr>\n",
       "      <th>Thur</th>\n",
       "      <td>15</td>\n",
       "      <td>14</td>\n",
       "      <td>8</td>\n",
       "    </tr>\n",
       "    <tr>\n",
       "      <th>Fri</th>\n",
       "      <td>8</td>\n",
       "      <td>13</td>\n",
       "      <td>18</td>\n",
       "    </tr>\n",
       "  </tbody>\n",
       "</table>\n",
       "</div>"
      ],
      "text/plain": [
       "      Almond Butter  Peanut butter  Cashew Butter\n",
       "Mon              18              4             18\n",
       "Tue              18             16              9\n",
       "Wed              19             12             11\n",
       "Thur             15             14              8\n",
       "Fri               8             13             18"
      ]
     },
     "execution_count": 13,
     "metadata": {},
     "output_type": "execute_result"
    }
   ],
   "source": [
    "weekly_sales"
   ]
  },
  {
   "cell_type": "code",
   "execution_count": 14,
   "id": "12345a15",
   "metadata": {},
   "outputs": [
    {
     "data": {
      "text/html": [
       "<div>\n",
       "<style scoped>\n",
       "    .dataframe tbody tr th:only-of-type {\n",
       "        vertical-align: middle;\n",
       "    }\n",
       "\n",
       "    .dataframe tbody tr th {\n",
       "        vertical-align: top;\n",
       "    }\n",
       "\n",
       "    .dataframe thead th {\n",
       "        text-align: right;\n",
       "    }\n",
       "</style>\n",
       "<table border=\"1\" class=\"dataframe\">\n",
       "  <thead>\n",
       "    <tr style=\"text-align: right;\">\n",
       "      <th></th>\n",
       "      <th>Almond Butter</th>\n",
       "      <th>Peanut butter</th>\n",
       "      <th>Cashew Butter</th>\n",
       "    </tr>\n",
       "  </thead>\n",
       "  <tbody>\n",
       "    <tr>\n",
       "      <th>Prices</th>\n",
       "      <td>10</td>\n",
       "      <td>8</td>\n",
       "      <td>12</td>\n",
       "    </tr>\n",
       "  </tbody>\n",
       "</table>\n",
       "</div>"
      ],
      "text/plain": [
       "        Almond Butter  Peanut butter  Cashew Butter\n",
       "Prices             10              8             12"
      ]
     },
     "execution_count": 14,
     "metadata": {},
     "output_type": "execute_result"
    }
   ],
   "source": [
    "butter_prices"
   ]
  },
  {
   "cell_type": "code",
   "execution_count": 27,
   "id": "c6300737",
   "metadata": {},
   "outputs": [
    {
     "data": {
      "text/plain": [
       "array([[10],\n",
       "       [ 8],\n",
       "       [12]])"
      ]
     },
     "execution_count": 27,
     "metadata": {},
     "output_type": "execute_result"
    }
   ],
   "source": [
    "prices=prices.reshape(1,3).T\n",
    "prices"
   ]
  },
  {
   "cell_type": "code",
   "execution_count": 28,
   "id": "dbd67e32",
   "metadata": {},
   "outputs": [
    {
     "data": {
      "text/plain": [
       "array([[18,  4, 18],\n",
       "       [18, 16,  9],\n",
       "       [19, 12, 11],\n",
       "       [15, 14,  8],\n",
       "       [ 8, 13, 18]])"
      ]
     },
     "execution_count": 28,
     "metadata": {},
     "output_type": "execute_result"
    }
   ],
   "source": [
    "sales_amount"
   ]
  },
  {
   "cell_type": "code",
   "execution_count": 42,
   "id": "4bddb7ab",
   "metadata": {},
   "outputs": [
    {
     "data": {
      "text/plain": [
       "dtype('int32')"
      ]
     },
     "execution_count": 42,
     "metadata": {},
     "output_type": "execute_result"
    }
   ],
   "source": [
    "total_sales = np.dot(sales_amount,prices)\n",
    "total_sales_series = pd.Series(total_sales.reshape(5,))\n",
    "total_sales.dtype"
   ]
  },
  {
   "cell_type": "code",
   "execution_count": 41,
   "id": "f6403587",
   "metadata": {},
   "outputs": [
    {
     "data": {
      "text/html": [
       "<div>\n",
       "<style scoped>\n",
       "    .dataframe tbody tr th:only-of-type {\n",
       "        vertical-align: middle;\n",
       "    }\n",
       "\n",
       "    .dataframe tbody tr th {\n",
       "        vertical-align: top;\n",
       "    }\n",
       "\n",
       "    .dataframe thead th {\n",
       "        text-align: right;\n",
       "    }\n",
       "</style>\n",
       "<table border=\"1\" class=\"dataframe\">\n",
       "  <thead>\n",
       "    <tr style=\"text-align: right;\">\n",
       "      <th></th>\n",
       "      <th>Almond Butter</th>\n",
       "      <th>Peanut butter</th>\n",
       "      <th>Cashew Butter</th>\n",
       "      <th>Total ($)</th>\n",
       "    </tr>\n",
       "  </thead>\n",
       "  <tbody>\n",
       "    <tr>\n",
       "      <th>Mon</th>\n",
       "      <td>18</td>\n",
       "      <td>4</td>\n",
       "      <td>18</td>\n",
       "      <td>428</td>\n",
       "    </tr>\n",
       "    <tr>\n",
       "      <th>Tue</th>\n",
       "      <td>18</td>\n",
       "      <td>16</td>\n",
       "      <td>9</td>\n",
       "      <td>416</td>\n",
       "    </tr>\n",
       "    <tr>\n",
       "      <th>Wed</th>\n",
       "      <td>19</td>\n",
       "      <td>12</td>\n",
       "      <td>11</td>\n",
       "      <td>418</td>\n",
       "    </tr>\n",
       "    <tr>\n",
       "      <th>Thur</th>\n",
       "      <td>15</td>\n",
       "      <td>14</td>\n",
       "      <td>8</td>\n",
       "      <td>358</td>\n",
       "    </tr>\n",
       "    <tr>\n",
       "      <th>Fri</th>\n",
       "      <td>8</td>\n",
       "      <td>13</td>\n",
       "      <td>18</td>\n",
       "      <td>400</td>\n",
       "    </tr>\n",
       "  </tbody>\n",
       "</table>\n",
       "</div>"
      ],
      "text/plain": [
       "      Almond Butter  Peanut butter  Cashew Butter  Total ($)\n",
       "Mon              18              4             18        428\n",
       "Tue              18             16              9        416\n",
       "Wed              19             12             11        418\n",
       "Thur             15             14              8        358\n",
       "Fri               8             13             18        400"
      ]
     },
     "execution_count": 41,
     "metadata": {},
     "output_type": "execute_result"
    }
   ],
   "source": [
    "weekly_sales['Total ($)'] = total_sales\n",
    "weekly_sales"
   ]
  },
  {
   "cell_type": "markdown",
   "id": "cb6f7a26",
   "metadata": {},
   "source": [
    "### Comparision Operators"
   ]
  },
  {
   "cell_type": "code",
   "execution_count": 43,
   "id": "51e204ef",
   "metadata": {},
   "outputs": [],
   "source": [
    "a1 = np.array([1,2,3,4,5])"
   ]
  },
  {
   "cell_type": "code",
   "execution_count": 44,
   "id": "8e5c6e39",
   "metadata": {},
   "outputs": [],
   "source": [
    "a2 = np.array([4,1,6,2,4])"
   ]
  },
  {
   "cell_type": "code",
   "execution_count": 45,
   "id": "a15bfd18",
   "metadata": {},
   "outputs": [
    {
     "data": {
      "text/plain": [
       "array([False,  True, False,  True,  True])"
      ]
     },
     "execution_count": 45,
     "metadata": {},
     "output_type": "execute_result"
    }
   ],
   "source": [
    "a1>a2"
   ]
  },
  {
   "cell_type": "code",
   "execution_count": 46,
   "id": "b09d7c8b",
   "metadata": {},
   "outputs": [
    {
     "data": {
      "text/plain": [
       "array([False, False, False, False, False])"
      ]
     },
     "execution_count": 46,
     "metadata": {},
     "output_type": "execute_result"
    }
   ],
   "source": [
    "a1==a2"
   ]
  },
  {
   "cell_type": "markdown",
   "id": "601362ae",
   "metadata": {},
   "source": [
    "### Sorting Arrays"
   ]
  },
  {
   "cell_type": "code",
   "execution_count": null,
   "id": "cb21c4be",
   "metadata": {},
   "outputs": [],
   "source": []
  }
 ],
 "metadata": {
  "kernelspec": {
   "display_name": "Python 3 (ipykernel)",
   "language": "python",
   "name": "python3"
  },
  "language_info": {
   "codemirror_mode": {
    "name": "ipython",
    "version": 3
   },
   "file_extension": ".py",
   "mimetype": "text/x-python",
   "name": "python",
   "nbconvert_exporter": "python",
   "pygments_lexer": "ipython3",
   "version": "3.10.7"
  }
 },
 "nbformat": 4,
 "nbformat_minor": 5
}
